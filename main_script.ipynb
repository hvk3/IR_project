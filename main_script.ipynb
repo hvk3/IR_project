{
 "cells": [
  {
   "cell_type": "code",
   "execution_count": 4,
   "metadata": {},
   "outputs": [],
   "source": [
    "import tensorflow as tf\n",
    "import numpy as np"
   ]
  },
  {
   "cell_type": "code",
   "execution_count": 27,
   "metadata": {},
   "outputs": [],
   "source": [
    "import math\n",
    "\n",
    "def approx_sigmoid(x, degree):\n",
    "    factorial_base = 1\n",
    "    power_base = 1\n",
    "    s = 1\n",
    "    for i in range(degree):\n",
    "        s += power_base / factorial_base\n",
    "        power_base *= -x\n",
    "        factorial_base *= (i + 1)\n",
    "    return 1 / (s)"
   ]
  },
  {
   "cell_type": "code",
   "execution_count": 142,
   "metadata": {},
   "outputs": [],
   "source": [
    "def maclurian_approximation(x):\n",
    "    return (1 / 2) + (x / 4) - (x**3 / 48) + (x**5 / 480)"
   ]
  },
  {
   "cell_type": "code",
   "execution_count": 3,
   "metadata": {},
   "outputs": [],
   "source": [
    "def sigmoid(x):\n",
    "    return 1 / (1 + math.exp(-x))"
   ]
  },
  {
   "cell_type": "code",
   "execution_count": 149,
   "metadata": {},
   "outputs": [
    {
     "name": "stdout",
     "output_type": "stream",
     "text": [
      "0.9999546021312976\n",
      "696.3227962978938\n"
     ]
    },
    {
     "data": {
      "image/png": "[encoded data removed]",
      "text/plain": [
       "<Figure size 432x288 with 1 Axes>"
      ]
     },
     "metadata": {
      "needs_background": "light"
     },
     "output_type": "display_data"
    }
   ],
   "source": [
    "import matplotlib.pyplot as plt\n",
    "\n",
    "x = np.arange(-5.0, 5.0, 0.01)\n",
    "y = [sigmoid(i) for i in x]\n",
    "# y_approx = [approx_sigmoid(i, 30) for i in x]\n",
    "y_approx = [maclurian_approximation(i) for i in x]\n",
    "\n",
    "total_loss = sum([math.fabs(y[i] - y_approx[i]) for i in range(len(y))])\n",
    "print(1 - sigmoid(-10))\n",
    "print(total_loss)\n",
    "\n",
    "fig, ax = plt.subplots()\n",
    "ax.plot(x, y)\n",
    "ax.plot(x, y_approx)\n",
    "\n",
    "ax.set(xlabel='input', ylabel='output',\n",
    "       title='Sigmoid Approximation')\n",
    "ax.grid()\n",
    "\n",
    "plt.show()"
   ]
  },
  {
   "cell_type": "code",
   "execution_count": null,
   "metadata": {},
   "outputs": [],
   "source": []
  }
 ],
 "metadata": {
  "kernelspec": {
   "display_name": "Python 3",
   "language": "python",
   "name": "python3"
  },
  "language_info": {
   "codemirror_mode": {
    "name": "ipython",
    "version": 3
   },
   "file_extension": ".py",
   "mimetype": "text/x-python",
   "name": "python",
   "nbconvert_exporter": "python",
   "pygments_lexer": "ipython3",
   "version": "3.5.2"
  }
 },
 "nbformat": 4,
 "nbformat_minor": 2
}
